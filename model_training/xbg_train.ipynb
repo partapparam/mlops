{
 "cells": [
  {
   "cell_type": "code",
   "execution_count": 65,
   "id": "a7048ed8",
   "metadata": {},
   "outputs": [],
   "source": [
    "from sklearn.model_selection import train_test_split\n",
    "from sklearn.feature_extraction import DictVectorizer\n",
    "from sklearn.ensemble import RandomForestClassifier\n",
    "from sklearn.tree import DecisionTreeClassifier\n",
    "import pickle\n",
    "from sklearn.metrics import roc_auc_score\n",
    "from sklearn.tree import export_text\n",
    "import xgboost as xgb\n",
    "from sklearn.metrics import accuracy_score, balanced_accuracy_score, precision_score, recall_score\n",
    "from sklearn.metrics import f1_score, roc_auc_score, roc_curve, auc\n",
    "import pandas as pd\n",
    "import numpy as np\n",
    "random_state = 1"
   ]
  },
  {
   "cell_type": "code",
   "execution_count": 66,
   "id": "4f17f5ef",
   "metadata": {},
   "outputs": [],
   "source": [
    "df = pd.read_csv('./data.csv')\n",
    "del df['Unnamed: 0']"
   ]
  },
  {
   "cell_type": "code",
   "execution_count": 67,
   "id": "ec6f41f5",
   "metadata": {},
   "outputs": [],
   "source": [
    "df_full_train, df_test = train_test_split(df, test_size=0.2, random_state=random_state)\n",
    "df_full_train = df_full_train.reset_index(drop=True)\n",
    "df_test = df_test.reset_index(drop=True)\n",
    "\n",
    "y_full_train = df_full_train['target']\n",
    "y_test = df_test['target']\n",
    "\n",
    "\n",
    "del df_test['target']\n",
    "del df_test['song_title']\n",
    "del df_full_train['target']\n",
    "del df_full_train['song_title']\n",
    "# del df_test['artist']\n",
    "# del df_full_train['artist']\n"
   ]
  },
  {
   "cell_type": "code",
   "execution_count": 68,
   "id": "67336b9d",
   "metadata": {},
   "outputs": [],
   "source": [
    "dicts_full_train = df_full_train.to_dict(orient='records')\n",
    "\n",
    "dv = DictVectorizer(sparse=False)\n",
    "X_full_train = dv.fit_transform(dicts_full_train)\n",
    "\n",
    "dicts_test = df_test.to_dict(orient='records')\n",
    "X_test = dv.transform(dicts_test)"
   ]
  },
  {
   "cell_type": "code",
   "execution_count": 69,
   "id": "972de2ef",
   "metadata": {},
   "outputs": [],
   "source": [
    "\n",
    "features = list(dv.get_feature_names_out())\n",
    "\n",
    "dfull_train = xgb.DMatrix(X_full_train, label=y_full_train, feature_names=features)\n",
    "dtest = xgb.DMatrix(X_test, label=y_test, feature_names=features)"
   ]
  },
  {
   "cell_type": "code",
   "execution_count": 70,
   "id": "11dd434e",
   "metadata": {},
   "outputs": [],
   "source": [
    "# We will hold ETA at 0.3 and max depth at 3\n",
    "xgb_params_final = {\n",
    "    'eta': 0.3, \n",
    "    'max_depth': 3,\n",
    "    'min_child_weight': 1,\n",
    "    'objective': 'binary:logistic',\n",
    "    'eval_metric': 'auc',\n",
    "    'nthread': 8,\n",
    "    'seed': 1,\n",
    "    'verbosity': 1,\n",
    "}\n",
    "evals_result = {}\n",
    "watchlist = [(dfull_train, 'train'), (dtest, 'test')]\n"
   ]
  },
  {
   "cell_type": "code",
   "execution_count": 71,
   "id": "8e4a3710",
   "metadata": {},
   "outputs": [],
   "source": [
    "def parse_xgb_output(output):\n",
    "    results = []\n",
    "    \n",
    "    for line in output.strip().split('\\n'):\n",
    "        num, train, test = line.split('\\t')\n",
    "        it = int(num.strip('[]'))\n",
    "        train = float(train.split(':')[1])\n",
    "        test = float(test.split(':')[1])\n",
    "        \n",
    "        results.append((it, train, test))\n",
    "    \n",
    "    columns = ['num_of_iterations', 'train_auc', 'test_auc']\n",
    "    df_results = pd.DataFrame(results, columns=columns)\n",
    "    \n",
    "    return df_results\n"
   ]
  },
  {
   "cell_type": "code",
   "execution_count": 72,
   "id": "21934333",
   "metadata": {},
   "outputs": [],
   "source": [
    "%%capture output\n",
    "# this will allow us to capture the output. Line Magics must be at the beginning of the cell\n"
   ]
  },
  {
   "cell_type": "code",
   "execution_count": 73,
   "id": "830109be",
   "metadata": {},
   "outputs": [],
   "source": [
    "output_string = (output.stdout)\n"
   ]
  },
  {
   "cell_type": "code",
   "execution_count": 74,
   "id": "ee93f97b",
   "metadata": {},
   "outputs": [
    {
     "name": "stdout",
     "output_type": "stream",
     "text": [
      "[0]\ttrain-auc:0.77736\ttest-auc:0.78511\n",
      "[5]\ttrain-auc:0.85847\ttest-auc:0.84496\n",
      "[10]\ttrain-auc:0.88737\ttest-auc:0.85813\n",
      "[15]\ttrain-auc:0.89924\ttest-auc:0.86149\n",
      "[20]\ttrain-auc:0.91111\ttest-auc:0.86460\n",
      "[25]\ttrain-auc:0.91997\ttest-auc:0.87193\n",
      "[30]\ttrain-auc:0.92400\ttest-auc:0.87117\n",
      "[35]\ttrain-auc:0.93383\ttest-auc:0.86694\n",
      "[40]\ttrain-auc:0.94110\ttest-auc:0.87043\n",
      "[45]\ttrain-auc:0.94608\ttest-auc:0.86986\n",
      "[50]\ttrain-auc:0.95138\ttest-auc:0.87072\n",
      "[55]\ttrain-auc:0.95607\ttest-auc:0.86761\n",
      "[60]\ttrain-auc:0.95961\ttest-auc:0.86908\n",
      "[65]\ttrain-auc:0.96420\ttest-auc:0.86726\n",
      "[70]\ttrain-auc:0.96789\ttest-auc:0.86459\n",
      "[75]\ttrain-auc:0.97175\ttest-auc:0.86371\n",
      "[80]\ttrain-auc:0.97383\ttest-auc:0.86574\n",
      "[85]\ttrain-auc:0.97663\ttest-auc:0.86812\n",
      "[90]\ttrain-auc:0.98060\ttest-auc:0.86464\n",
      "[95]\ttrain-auc:0.98458\ttest-auc:0.86520\n",
      "[99]\ttrain-auc:0.98602\ttest-auc:0.86403\n"
     ]
    }
   ],
   "source": [
    "xgb_model = xgb.train(params=xgb_params_final,\n",
    "                  dtrain=dfull_train,\n",
    "                  num_boost_round=100,\n",
    "                  verbose_eval=5,\n",
    "                  evals=watchlist,\n",
    "                  evals_result=evals_result)\n",
    "xgb_pred = xgb_model.predict(dtest)\n",
    "xgb_liked = (xgb_pred >= 0.5)"
   ]
  },
  {
   "cell_type": "code",
   "execution_count": 76,
   "id": "5dd66cd1",
   "metadata": {},
   "outputs": [],
   "source": [
    "columns = ['iter', 'train_auc', 'test_auc']\n",
    "train_aucs = list(evals_result['train'].values())[0]\n",
    "test_aucs = list(evals_result['test'].values())[0]\n",
    "\n",
    "df_scores = pd.DataFrame(\n",
    "    list(zip(\n",
    "        range(1, len(train_aucs) + 1),\n",
    "        train_aucs,\n",
    "        test_aucs\n",
    "    )), columns=columns)\n",
    "\n",
    "# plt.plot(df_scores.iter, df_scores.train_auc, label='train')\n",
    "# plt.plot(df_scores.iter, df_scores.test_aucs, label='test')\n",
    "# plt.legend()"
   ]
  }
 ],
 "metadata": {
  "kernelspec": {
   "display_name": "Python 3 (ipykernel)",
   "language": "python",
   "name": "python3"
  },
  "language_info": {
   "codemirror_mode": {
    "name": "ipython",
    "version": 3
   },
   "file_extension": ".py",
   "mimetype": "text/x-python",
   "name": "python",
   "nbconvert_exporter": "python",
   "pygments_lexer": "ipython3",
   "version": "3.11.4"
  }
 },
 "nbformat": 4,
 "nbformat_minor": 5
}
